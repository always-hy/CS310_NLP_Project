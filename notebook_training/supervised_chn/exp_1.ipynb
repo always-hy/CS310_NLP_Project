{
 "cells": [
  {
   "cell_type": "markdown",
   "id": "06e23cc0",
   "metadata": {},
   "source": [
    "## Supervised Approach + Chinese Dataset (webnovel domain small dataset)"
   ]
  },
  {
   "cell_type": "markdown",
   "id": "598cf7f2",
   "metadata": {},
   "source": [
    "### Import Libraries"
   ]
  },
  {
   "cell_type": "code",
   "execution_count": 1,
   "id": "556ed9dd",
   "metadata": {},
   "outputs": [],
   "source": [
    "import pandas as pd\n",
    "import numpy as np\n",
    "import torch"
   ]
  },
  {
   "cell_type": "markdown",
   "id": "f2ae1007",
   "metadata": {},
   "source": [
    "### Load data"
   ]
  },
  {
   "cell_type": "code",
   "execution_count": 9,
   "id": "9f19791d",
   "metadata": {},
   "outputs": [],
   "source": [
    "def analyse_data(df):\n",
    "    print(f\"Number of rows: {len(df)}\")\n",
    "    print(\"Maximum length of text:\", df['text'].str.len().max())\n",
    "    print(\"Minimum length of text:\", df['text'].str.len().min())\n",
    "    print(\"Average length of text:\", df['text'].str.len().mean())"
   ]
  },
  {
   "cell_type": "code",
   "execution_count": 10,
   "id": "51b63c7c",
   "metadata": {},
   "outputs": [
    {
     "data": {
      "text/html": [
       "<div>\n",
       "<style scoped>\n",
       "    .dataframe tbody tr th:only-of-type {\n",
       "        vertical-align: middle;\n",
       "    }\n",
       "\n",
       "    .dataframe tbody tr th {\n",
       "        vertical-align: top;\n",
       "    }\n",
       "\n",
       "    .dataframe thead th {\n",
       "        text-align: right;\n",
       "    }\n",
       "</style>\n",
       "<table border=\"1\" class=\"dataframe\">\n",
       "  <thead>\n",
       "    <tr style=\"text-align: right;\">\n",
       "      <th></th>\n",
       "      <th>text</th>\n",
       "      <th>target</th>\n",
       "    </tr>\n",
       "  </thead>\n",
       "  <tbody>\n",
       "    <tr>\n",
       "      <th>0</th>\n",
       "      <td>，在他肩膀上拍了拍，除了周宣和张蕾两个人，其他人在看到朱杰笑呵呵的样子，绝对会认为朱杰跟周宣...</td>\n",
       "      <td>0</td>\n",
       "    </tr>\n",
       "    <tr>\n",
       "      <th>1</th>\n",
       "      <td>突然多了这些人等……你还是等哥哥看完再说吧。”\\n“无妨的”，时穿毫不在意：“没人敢在我面前...</td>\n",
       "      <td>0</td>\n",
       "    </tr>\n",
       "    <tr>\n",
       "      <th>2</th>\n",
       "      <td>体内药性所致。以我愚见，这二人体内的毒素已经深入膏肓，绝非近期才中毒，这种毒素，至少在他体内...</td>\n",
       "      <td>0</td>\n",
       "    </tr>\n",
       "    <tr>\n",
       "      <th>3</th>\n",
       "      <td>寨，他们甚至都只在帐篷里烤火喝酒，没有一个将卒对攻城有半点的在意。\\n然而，就在刚才，一个黑...</td>\n",
       "      <td>1</td>\n",
       "    </tr>\n",
       "    <tr>\n",
       "      <th>4</th>\n",
       "      <td>到，反倒是像我们荣老板这样的非靓仔才会淡定自若！”\\n郭富城没想到吉米会如此打趣，连荣少亨都...</td>\n",
       "      <td>0</td>\n",
       "    </tr>\n",
       "    <tr>\n",
       "      <th>...</th>\n",
       "      <td>...</td>\n",
       "      <td>...</td>\n",
       "    </tr>\n",
       "    <tr>\n",
       "      <th>395</th>\n",
       "      <td>\\n\\n\\n\\n【作品相关】关于本书中几个疑问：\\n写到了现在，让有些人出现了一些困惑。比如...</td>\n",
       "      <td>0</td>\n",
       "    </tr>\n",
       "    <tr>\n",
       "      <th>396</th>\n",
       "      <td>的场面话都懒得说了，直接道：“上帝，我想我要告辞了。你有什么要求可以提出来，我向国防部和总统...</td>\n",
       "      <td>1</td>\n",
       "    </tr>\n",
       "    <tr>\n",
       "      <th>397</th>\n",
       "      <td>组织，但因此遭到了最严厉的制裁，在一次次的逃脱中他邂逅了那个让自己能够真正体会出什么才叫做生...</td>\n",
       "      <td>1</td>\n",
       "    </tr>\n",
       "    <tr>\n",
       "      <th>398</th>\n",
       "      <td>“兽元丹内如果有玄冥丹精，是能增加兽元丹的品质。”解剖室的侍者笑着说道，“就因为里面可能有玄...</td>\n",
       "      <td>1</td>\n",
       "    </tr>\n",
       "    <tr>\n",
       "      <th>399</th>\n",
       "      <td>依孙国权所说的那样解释为什么自己认为这是好香，而是拿起一支香，凑到正在煮水的小碳炉上。\\n小...</td>\n",
       "      <td>0</td>\n",
       "    </tr>\n",
       "  </tbody>\n",
       "</table>\n",
       "<p>400 rows × 2 columns</p>\n",
       "</div>"
      ],
      "text/plain": [
       "                                                  text  target\n",
       "0    ，在他肩膀上拍了拍，除了周宣和张蕾两个人，其他人在看到朱杰笑呵呵的样子，绝对会认为朱杰跟周宣...       0\n",
       "1    突然多了这些人等……你还是等哥哥看完再说吧。”\\n“无妨的”，时穿毫不在意：“没人敢在我面前...       0\n",
       "2    体内药性所致。以我愚见，这二人体内的毒素已经深入膏肓，绝非近期才中毒，这种毒素，至少在他体内...       0\n",
       "3    寨，他们甚至都只在帐篷里烤火喝酒，没有一个将卒对攻城有半点的在意。\\n然而，就在刚才，一个黑...       1\n",
       "4    到，反倒是像我们荣老板这样的非靓仔才会淡定自若！”\\n郭富城没想到吉米会如此打趣，连荣少亨都...       0\n",
       "..                                                 ...     ...\n",
       "395  \\n\\n\\n\\n【作品相关】关于本书中几个疑问：\\n写到了现在，让有些人出现了一些困惑。比如...       0\n",
       "396  的场面话都懒得说了，直接道：“上帝，我想我要告辞了。你有什么要求可以提出来，我向国防部和总统...       1\n",
       "397  组织，但因此遭到了最严厉的制裁，在一次次的逃脱中他邂逅了那个让自己能够真正体会出什么才叫做生...       1\n",
       "398  “兽元丹内如果有玄冥丹精，是能增加兽元丹的品质。”解剖室的侍者笑着说道，“就因为里面可能有玄...       1\n",
       "399  依孙国权所说的那样解释为什么自己认为这是好香，而是拿起一支香，凑到正在煮水的小碳炉上。\\n小...       0\n",
       "\n",
       "[400 rows x 2 columns]"
      ]
     },
     "execution_count": 10,
     "metadata": {},
     "output_type": "execute_result"
    }
   ],
   "source": [
    "dir_name = '../../dataset/face2/'\n",
    "\n",
    "human_df = pd.read_csv(dir_name + 'generated/generated_webnovel_data_200.csv')\n",
    "generated_df = pd.read_csv(dir_name + 'human/human_webnovel_data_200.csv')\n",
    "\n",
    "# combine\n",
    "webnovel_df = pd.concat([human_df, generated_df], axis=0)\n",
    "webnovel_df = webnovel_df.reset_index(drop=True)\n",
    "\n",
    "# shuffle\n",
    "webnovel_df = webnovel_df.sample(frac=1).reset_index(drop=True)\n",
    "\n",
    "webnovel_df"
   ]
  },
  {
   "cell_type": "code",
   "execution_count": 11,
   "id": "04bcd310",
   "metadata": {},
   "outputs": [
    {
     "name": "stdout",
     "output_type": "stream",
     "text": [
      "Number of rows: 400\n",
      "Maximum length of text: 2889\n",
      "Minimum length of text: 1\n",
      "Average length of text: 1033.51\n"
     ]
    }
   ],
   "source": [
    "analyse_data(webnovel_df)"
   ]
  },
  {
   "cell_type": "markdown",
   "id": "342e9e89",
   "metadata": {},
   "source": [
    "### Get X and y"
   ]
  },
  {
   "cell_type": "code",
   "execution_count": 14,
   "id": "139d6b20",
   "metadata": {},
   "outputs": [],
   "source": [
    "X = webnovel_df['text']\n",
    "y = webnovel_df['target'].values"
   ]
  },
  {
   "cell_type": "markdown",
   "id": "387b15e4",
   "metadata": {},
   "source": [
    "### Convert to tensor"
   ]
  },
  {
   "cell_type": "code",
   "execution_count": null,
   "id": "4c2d9edd",
   "metadata": {},
   "outputs": [],
   "source": []
  },
  {
   "cell_type": "markdown",
   "id": "08ca40ba",
   "metadata": {},
   "source": [
    "### Load Tokenizer and Model"
   ]
  },
  {
   "cell_type": "markdown",
   "id": "4049cc46",
   "metadata": {},
   "source": [
    "### Train the model"
   ]
  },
  {
   "cell_type": "markdown",
   "id": "67d52c1c",
   "metadata": {},
   "source": []
  }
 ],
 "metadata": {
  "kernelspec": {
   "display_name": "vidovax-env",
   "language": "python",
   "name": "python3"
  },
  "language_info": {
   "codemirror_mode": {
    "name": "ipython",
    "version": 3
   },
   "file_extension": ".py",
   "mimetype": "text/x-python",
   "name": "python",
   "nbconvert_exporter": "python",
   "pygments_lexer": "ipython3",
   "version": "3.11.11"
  }
 },
 "nbformat": 4,
 "nbformat_minor": 5
}
